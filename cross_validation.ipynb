{
 "cells": [
  {
   "cell_type": "code",
   "execution_count": 1,
   "metadata": {},
   "outputs": [],
   "source": [
    "import numpy as np \n",
    "np.random.seed(2023)"
   ]
  },
  {
   "cell_type": "code",
   "execution_count": 69,
   "metadata": {},
   "outputs": [],
   "source": [
    "ratings = np.genfromtxt('ratings.dat',delimiter='::',dtype=int)\n",
    "users = np.genfromtxt('users.dat',delimiter='::', dtype='str')\n",
    "movies = np.genfromtxt('movies.dat',delimiter='::',dtype='str')"
   ]
  },
  {
   "cell_type": "code",
   "execution_count": 70,
   "metadata": {},
   "outputs": [
    {
     "name": "stdout",
     "output_type": "stream",
     "text": [
      "[[        1      1193         5 978300760]\n",
      " [        1       661         3 978302109]\n",
      " [        1       914         3 978301968]\n",
      " ...\n",
      " [     6040       562         5 956704746]\n",
      " [     6040      1096         4 956715648]\n",
      " [     6040      1097         4 956715569]]\n",
      "[['1' 'F' '1' '10' '48067']\n",
      " ['2' 'M' '56' '16' '70072']\n",
      " ['3' 'M' '25' '15' '55117']\n",
      " ...\n",
      " ['6038' 'F' '56' '1' '14706']\n",
      " ['6039' 'F' '45' '0' '01060']\n",
      " ['6040' 'M' '25' '6' '11106']]\n",
      "[['1' 'Toy Story (1995)' \"Animation|Children's|Comedy\"]\n",
      " ['2' 'Jumanji (1995)' \"Adventure|Children's|Fantasy\"]\n",
      " ['3' 'Grumpier Old Men (1995)' 'Comedy|Romance']\n",
      " ...\n",
      " ['3950' 'Tigerland (2000)' 'Drama']\n",
      " ['3951' 'Two Family House (2000)' 'Drama']\n",
      " ['3952' 'Contender, The (2000)' 'Drama|Thriller']]\n"
     ]
    }
   ],
   "source": [
    "print(ratings)\n",
    "print(users)\n",
    "print(movies)"
   ]
  },
  {
   "cell_type": "code",
   "execution_count": 33,
   "metadata": {},
   "outputs": [],
   "source": [
    "model = 4*np.random.rand(5) + 1"
   ]
  },
  {
   "cell_type": "code",
   "execution_count": 83,
   "metadata": {},
   "outputs": [
    {
     "name": "stdout",
     "output_type": "stream",
     "text": [
      "[array([[     5463,       720,         3, 959900451],\n",
      "       [     3620,      3185,         4, 966577306],\n",
      "       [     3729,      2174,         3, 966575853],\n",
      "       ...,\n",
      "       [     2842,       866,         4, 972548608],\n",
      "       [     4407,      3821,         1, 965154877],\n",
      "       [     2076,      2572,         3, 975381096]]), array([[      991,      1230,         3, 975087748],\n",
      "       [     5172,      1244,         4, 995327883],\n",
      "       [     5284,       527,         4, 961097816],\n",
      "       ...,\n",
      "       [     5605,       938,         3, 959570813],\n",
      "       [     5806,      2248,         4, 957986553],\n",
      "       [     4150,      1253,         4, 965343775]]), array([[     1943,      3175,         4, 974692989],\n",
      "       [     1383,       454,         4, 976148617],\n",
      "       [     3320,         2,         4, 968522205],\n",
      "       ...,\n",
      "       [     4421,      2617,         4, 965118603],\n",
      "       [      173,       922,         5, 990547981],\n",
      "       [     3189,      2136,         4, 969862790]]), array([[     5954,      2366,         5, 957650210],\n",
      "       [     1836,      1517,         5, 974826249],\n",
      "       [     5417,      1019,         3, 960203093],\n",
      "       ...,\n",
      "       [     1404,      3613,         4, 974765105],\n",
      "       [     1257,      3897,         4, 974822234],\n",
      "       [     2807,      3429,         4, 972778965]]), array([[     5490,      1566,         3, 959963069],\n",
      "       [     3032,       990,         3, 970343753],\n",
      "       [     1483,       316,         3, 974755977],\n",
      "       ...,\n",
      "       [     4227,      3498,         4, 965660186],\n",
      "       [      639,       915,         4, 979471367],\n",
      "       [      925,      1680,         2, 975198642]])]\n"
     ]
    }
   ],
   "source": [
    "def split(data):\n",
    "    \"\"\"\n",
    "    This function shuffles the rows the data array to randomize the data, and then splits it in to five seperate arrays\n",
    "    \"\"\"\n",
    "    np.random.shuffle(data)\n",
    "    split_data = np.array_split(data,5)\n",
    "    return split_data\n",
    "\n",
    "ratings_split = split(ratings)\n",
    "users_split = split(users)\n",
    "movies_split = split(movies)"
   ]
  },
  {
   "cell_type": "code",
   "execution_count": null,
   "metadata": {},
   "outputs": [],
   "source": []
  }
 ],
 "metadata": {
  "kernelspec": {
   "display_name": "Python 3 (ipykernel)",
   "language": "python",
   "name": "python3"
  },
  "language_info": {
   "codemirror_mode": {
    "name": "ipython",
    "version": 3
   },
   "file_extension": ".py",
   "mimetype": "text/x-python",
   "name": "python",
   "nbconvert_exporter": "python",
   "pygments_lexer": "ipython3",
   "version": "3.9.13"
  }
 },
 "nbformat": 4,
 "nbformat_minor": 2
}
