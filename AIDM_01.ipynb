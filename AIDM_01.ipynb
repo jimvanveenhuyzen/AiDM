{
  "nbformat": 4,
  "nbformat_minor": 0,
  "metadata": {
    "colab": {
      "provenance": [],
      "machine_shape": "hm",
      "gpuType": "T4"
    },
    "kernelspec": {
      "name": "python3",
      "display_name": "Python 3"
    },
    "language_info": {
      "name": "python"
    },
    "accelerator": "GPU"
  },
  "cells": [
    {
      "cell_type": "code",
      "execution_count": 26,
      "metadata": {
        "id": "JezypYlPhlkE"
      },
      "outputs": [],
      "source": [
        "import pandas as pd\n",
        "import numpy as np\n",
        "from sklearn.model_selection import KFold\n",
        "from sklearn.model_selection import train_test_split\n",
        "from sklearn.metrics import mean_absolute_error, mean_squared_error\n",
        "from math import sqrt"
      ]
    },
    {
      "cell_type": "code",
      "source": [
        "#Users data\n",
        "usersData = pd.read_csv('users.dat', sep='::', header=None, names=['UserID', 'Gender', 'Age', 'Occupation', 'Zip-code'], engine='python')\n",
        "\n",
        "#Ratings data\n",
        "ratingsData = pd.read_csv('ratings.dat', sep='::', header=None, names=['UserID', 'MovieID', 'Rating', 'Timestamp'], engine='python')\n",
        "\n",
        "#Movies data\n",
        "moviesData = pd.read_csv('movies.dat', sep='::', header=None, names=['MovieID', 'Title', 'Genres'], engine='python', encoding='latin1')"
      ],
      "metadata": {
        "id": "r2jjo1hdinZI"
      },
      "execution_count": 27,
      "outputs": []
    },
    {
      "cell_type": "code",
      "source": [
        "#Users data\n",
        "print(usersData.head())\n",
        "\n",
        "#Ratings data\n",
        "print(ratingsData.head())\n",
        "\n",
        "#Movies data\n",
        "print(moviesData.head())"
      ],
      "metadata": {
        "colab": {
          "base_uri": "https://localhost:8080/"
        },
        "id": "VQPUco7ziu__",
        "outputId": "7e110d3a-1671-4d87-aa41-f62aa756bb92"
      },
      "execution_count": 28,
      "outputs": [
        {
          "output_type": "stream",
          "name": "stdout",
          "text": [
            "   UserID Gender  Age  Occupation Zip-code\n",
            "0       1      F    1          10    48067\n",
            "1       2      M   56          16    70072\n",
            "2       3      M   25          15    55117\n",
            "3       4      M   45           7    02460\n",
            "4       5      M   25          20    55455\n",
            "   UserID  MovieID  Rating  Timestamp\n",
            "0       1     1193       5  978300760\n",
            "1       1      661       3  978302109\n",
            "2       1      914       3  978301968\n",
            "3       1     3408       4  978300275\n",
            "4       1     2355       5  978824291\n",
            "   MovieID                               Title                        Genres\n",
            "0        1                    Toy Story (1995)   Animation|Children's|Comedy\n",
            "1        2                      Jumanji (1995)  Adventure|Children's|Fantasy\n",
            "2        3             Grumpier Old Men (1995)                Comedy|Romance\n",
            "3        4            Waiting to Exhale (1995)                  Comedy|Drama\n",
            "4        5  Father of the Bride Part II (1995)                        Comedy\n"
          ]
        }
      ]
    },
    {
      "cell_type": "code",
      "source": [
        "#Calculating the Global Average Rating\n",
        "globalAvgRating = ratingsData[\"Rating\"].mean()\n",
        "print(\"The Global Average Rating is\", globalAvgRating)"
      ],
      "metadata": {
        "colab": {
          "base_uri": "https://localhost:8080/"
        },
        "id": "KPNTPs7OWKGM",
        "outputId": "5a23a191-6215-4113-ad3e-e74804a6e1d6"
      },
      "execution_count": 29,
      "outputs": [
        {
          "output_type": "stream",
          "name": "stdout",
          "text": [
            "The Global Average Rating is 3.581564453029317\n"
          ]
        }
      ]
    },
    {
      "cell_type": "code",
      "source": [
        "#Initialising the variables for error metrics\n",
        "totalMAE = 0\n",
        "totalRMSE = 0\n",
        "\n",
        "#Performing 5 fold cross validation\n",
        "kf = KFold(n_splits=5, shuffle=True, random_state=42)\n",
        "\n",
        "for train_index, test_index in kf.split(ratingsData):\n",
        "    train_set = ratingsData.iloc[train_index]\n",
        "    test_set = ratingsData.iloc[test_index]\n",
        "\n",
        "    #Global average Rating\n",
        "    globalAverageRating = train_set[\"Rating\"].mean()\n",
        "\n",
        "    #Dictionaries to store user and movie average ratings\n",
        "    userAverageRating = train_set.groupby(\"UserID\")[\"Rating\"].mean().to_dict()\n",
        "    movieAverageRating = train_set.groupby(\"MovieID\")[\"Rating\"].mean().to_dict()\n",
        "\n",
        "    #List to store predictions\n",
        "    predictions = []\n",
        "\n",
        "    #Iterating through the test set and make predictions\n",
        "    for _, row in test_set.iterrows():\n",
        "        user_id = row[\"UserID\"]\n",
        "        movie_id = row[\"MovieID\"]\n",
        "\n",
        "        #Condition to check if user or movie is not in the training data\n",
        "        if user_id not in userAverageRating or movie_id not in movieAverageRating:\n",
        "            predictedRating = globalAverageRating\n",
        "        else:\n",
        "            #Calculating the predicted rating using the user and movie average\n",
        "            predictedRating = (\n",
        "                userAverageRating.get(user_id, globalAverageRating)\n",
        "                + movieAverageRating.get(movie_id, globalAverageRating)\n",
        "                - globalAverageRating\n",
        "            )\n",
        "\n",
        "        # Ensure the predicted rating is within the valid range [1, 5]\n",
        "        predictedRating = min(5, max(1, predictedRating))\n",
        "\n",
        "        predictions.append(predictedRating)\n",
        "\n",
        "    #Replacing the NAN values with global average rating\n",
        "    predictions = [global_avg_rating if np.isnan(x) else x for x in predictions]\n",
        "\n",
        "    #Calculating MAE and RMSE\n",
        "    mae = mean_absolute_error(test_set[\"Rating\"], predictions)\n",
        "    rmse = np.sqrt(mean_squared_error(test_set[\"Rating\"], predictions))\n",
        "\n",
        "    totalMAE += mae\n",
        "    totalRMSE += rmse\n",
        "\n",
        "# Calculate the average MAE and RMSE over all folds\n",
        "averageMAE = totalMAE / 5\n",
        "averageRMSE = totalRMSE / 5\n",
        "\n",
        "print(\"The Average MAE is\", averageMAE)\n",
        "print(\"The Average RMSE is\", averageRMSE)"
      ],
      "metadata": {
        "colab": {
          "base_uri": "https://localhost:8080/"
        },
        "id": "fBjIj95kWwar",
        "outputId": "5f50bc96-598c-40fa-c330-3d7d7f724f9d"
      },
      "execution_count": 30,
      "outputs": [
        {
          "output_type": "stream",
          "name": "stdout",
          "text": [
            "The Average MAE is 0.732557217730404\n",
            "The Average RMSE is 0.9338024482626637\n"
          ]
        }
      ]
    },
    {
      "cell_type": "code",
      "source": [
        "#5 flod cross validation\n",
        "kf = KFold(n_splits=5, shuffle=True, random_state=42)\n",
        "\n",
        "MAE_Scores = []\n",
        "RMSE_Scores = []\n",
        "\n",
        "for train_index, test_index in kf.split(ratingsData):\n",
        "    train_set, test_set = ratingsData.iloc[train_index], ratingsData.iloc[test_index]\n",
        "\n",
        "    # Avg user rating for the training set\n",
        "    AvgUserRating = train_set.groupby('UserID')['Rating'].mean().to_dict()\n",
        "\n",
        "    #Predicting the user ratings in the test set and getting a copy of the slice\n",
        "    testSet = test_set.copy()\n",
        "    testSet['PredictedRating'] = testSet['UserID'].map(AvgUserRating)\n",
        "\n",
        "    #MAE and RMSE\n",
        "    MAE = mean_absolute_error(testSet['Rating'], testSet['PredictedRating'])\n",
        "    RMSE = np.sqrt(mean_squared_error(testSet['Rating'], testSet['PredictedRating']))\n",
        "\n",
        "    MAE_Scores.append(MAE)\n",
        "    RMSE_Scores.append(RMSE)\n",
        "\n",
        "# Calculate average MAE and RMSE over all folds\n",
        "Avg_MAE = np.mean(MAE_Scores)\n",
        "Avg_RMSE = np.mean(RMSE_Scores)\n",
        "\n",
        "print(\"The Average MAE is\", Avg_MAE)\n",
        "print(\"The Average RMSE is\", Avg_RMSE)"
      ],
      "metadata": {
        "colab": {
          "base_uri": "https://localhost:8080/"
        },
        "id": "pNV4YqUDWxlc",
        "outputId": "82be1891-63da-4ee0-a76d-434e4981ea16"
      },
      "execution_count": 31,
      "outputs": [
        {
          "output_type": "stream",
          "name": "stdout",
          "text": [
            "The Average MAE is 0.8289498348484926\n",
            "The Average RMSE is 1.0354800404316435\n"
          ]
        }
      ]
    },
    {
      "cell_type": "code",
      "source": [
        "#Avereage rating for each of the movies\n",
        "AvgMovieRating = ratingsData.groupby('MovieID')['Rating'].mean().to_dict()\n",
        "\n",
        "#Applying the recommender to the test set\n",
        "testSet['PredictedRating'] = testSet['MovieID'].map(AvgMovieRating)\n",
        "\n",
        "#MAE & RMSE\n",
        "MAE = mean_absolute_error(testSet['Rating'], testSet['PredictedRating'])\n",
        "RMSE = mean_squared_error(testSet['Rating'], testSet['PredictedRating'], squared=False)\n",
        "\n",
        "print(\"MAE:\", MAE)\n",
        "print(\"RMSE:\", RMSE)"
      ],
      "metadata": {
        "colab": {
          "base_uri": "https://localhost:8080/"
        },
        "id": "68uJmjqHWxja",
        "outputId": "9f1537e0-e1d2-4f4f-88cb-378d5ea3d0a6"
      },
      "execution_count": 33,
      "outputs": [
        {
          "output_type": "stream",
          "name": "stdout",
          "text": [
            "MAE: 0.7796494048920112\n",
            "RMSE: 0.9755265559644645\n"
          ]
        }
      ]
    },
    {
      "cell_type": "code",
      "source": [
        "#global average rating\n",
        "globalAverageRating = ratingsData['Rating'].mean()\n",
        "\n",
        "#Applying the recommender to the test set\n",
        "testSet['PredictedRating'] = globalAverageRating\n",
        "\n",
        "#MAE and RMSE\n",
        "MAE = mean_absolute_error(testSet['Rating'], testSet['PredictedRating'])\n",
        "RMSE = mean_squared_error(testSet['Rating'], testSet['PredictedRating'], squared=False)\n",
        "\n",
        "print(\"MAE:\", MAE)\n",
        "print(\"RMSE:\", RMSE)"
      ],
      "metadata": {
        "colab": {
          "base_uri": "https://localhost:8080/"
        },
        "id": "8HYbHrGcWxhi",
        "outputId": "781fbc34-19c4-4496-e416-8f4db9788dd2"
      },
      "execution_count": 34,
      "outputs": [
        {
          "output_type": "stream",
          "name": "stdout",
          "text": [
            "MAE: 0.9336170940472399\n",
            "RMSE: 1.1164859152763942\n"
          ]
        }
      ]
    },
    {
      "cell_type": "code",
      "source": [
        "#Average Rating for each of the user\n",
        "userAverageRating = ratingsData.groupby('UserID')['Rating'].mean().to_dict()\n",
        "\n",
        "#Applying the recommender to the test set\n",
        "testSet['PredictedRating'] = test_set['UserID'].map(userAverageRating)\n",
        "\n",
        "#Filling the missing average with average ratings\n",
        "testSet['PredictedRating'].fillna(globalAverageRating, inplace=True)\n",
        "\n",
        "#MAE & RMSE\n",
        "MAE = mean_absolute_error(testSet['Rating'], testSet['PredictedRating'])\n",
        "RMSE = mean_squared_error(testSet['Rating'], testSet['PredictedRating'], squared=False)\n",
        "\n",
        "print(\"MAE:\", MAE)\n",
        "print(\"RMSE:\", RMSE)"
      ],
      "metadata": {
        "colab": {
          "base_uri": "https://localhost:8080/"
        },
        "id": "pOwkUnxDWxeC",
        "outputId": "dfef0db7-cb14-4cdd-c755-9e2a121a2930"
      },
      "execution_count": 35,
      "outputs": [
        {
          "output_type": "stream",
          "name": "stdout",
          "text": [
            "MAE: 0.8225786635080068\n",
            "RMSE: 1.027543645855075\n"
          ]
        }
      ]
    },
    {
      "cell_type": "code",
      "source": [
        "#Average rating for each of the movies\n",
        "movieAvgRating = ratingsData.groupby('MovieID')['Rating'].mean().to_dict()\n",
        "\n",
        "#Applying the recommender to the test set\n",
        "testSet['PredictedRating'] = test_set['MovieID'].map(movieAvgRating)\n",
        "\n",
        "#Filling the missing value with global average\n",
        "testSet['PredictedRating'].fillna(globalAverageRating, inplace=True)\n",
        "\n",
        "# MAE & RMSE\n",
        "MAE = mean_absolute_error(testSet['Rating'], testSet['PredictedRating'])\n",
        "RMSE = mean_squared_error(testSet['Rating'], testSet['PredictedRating'], squared=False)\n",
        "\n",
        "print(\"MAE:\", MAE)\n",
        "print(\"RMSE:\", RMSE)"
      ],
      "metadata": {
        "colab": {
          "base_uri": "https://localhost:8080/"
        },
        "id": "LtZL8BA5Wxb-",
        "outputId": "970a763f-1824-4cc1-bfa7-acbd84dc7b53"
      },
      "execution_count": 36,
      "outputs": [
        {
          "output_type": "stream",
          "name": "stdout",
          "text": [
            "MAE: 0.7796494048920112\n",
            "RMSE: 0.9755265559644645\n"
          ]
        }
      ]
    },
    {
      "cell_type": "code",
      "source": [],
      "metadata": {
        "id": "jCtFuob9EsOS"
      },
      "execution_count": null,
      "outputs": []
    }
  ]
}