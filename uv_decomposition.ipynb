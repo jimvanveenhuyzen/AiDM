{
 "cells": [
  {
   "cell_type": "code",
   "execution_count": 43,
   "id": "5df48917",
   "metadata": {},
   "outputs": [],
   "source": [
    "import numpy as np\n",
    "import math"
   ]
  },
  {
   "cell_type": "code",
   "execution_count": 48,
   "id": "372358f6",
   "metadata": {},
   "outputs": [
    {
     "name": "stdout",
     "output_type": "stream",
     "text": [
      "[[ 5.  2.  4.  4.  3.]\n",
      " [ 3.  1.  2.  4.  1.]\n",
      " [ 2. nan  3.  1.  4.]\n",
      " [ 2.  5.  4.  3.  5.]\n",
      " [ 4.  4.  5.  4. nan]]\n",
      "mean of row 0 3.6\n",
      "mean of row 1 2.2\n",
      "mean of row 2 2.5\n",
      "mean of row 3 3.8\n",
      "mean of row 4 4.25\n",
      "[[ 1.4  -1.6   0.4   0.4  -0.6 ]\n",
      " [ 0.8  -1.2  -0.2   1.8  -1.2 ]\n",
      " [-0.5    nan  0.5  -1.5   1.5 ]\n",
      " [-1.8   1.2   0.2  -0.8   1.2 ]\n",
      " [-0.25 -0.25  0.75 -0.25   nan]]\n",
      "mean of column 0 -0.07000000000000002\n",
      "mean of column 1 -0.44500000000000006\n",
      "mean of column 2 0.433\n",
      "mean of column 3 -0.0536\n",
      "mean of column 4 0.2589\n",
      "[[ 1.47   -1.53    0.47    0.47   -0.53  ]\n",
      " [ 1.245  -0.755   0.245   2.245  -0.755 ]\n",
      " [-0.933      nan  0.067  -1.933   1.067 ]\n",
      " [-1.7464  1.2536  0.2536 -0.7464  1.2536]\n",
      " [-0.5089 -0.5089  0.4911 -0.5089     nan]]\n",
      "3.260869565217391\n",
      "0.003278260869565223\n"
     ]
    }
   ],
   "source": [
    "M = np.array([[5,2,4,4,3],[3,1,2,4,1],[2,np.nan,3,1,4],[2,5,4,3,5],[4,4,5,4,np.nan]]) #let the blank elements be NaN\n",
    "M_original = np.copy(M)\n",
    "print(M)\n",
    "\n",
    "#Preprocessing:\n",
    "\n",
    "#first, loop through rows\n",
    "for i in range(len(M[0,:])):\n",
    "    row_mean = np.nanmean(M[i,:]) #compute the mean for all non-NaN elements \n",
    "    print('mean of row',i,row_mean)\n",
    "    \n",
    "    for j in range(len(M[0])):\n",
    "        if not math.isnan(M[i,j]): #check if an element is NaN\n",
    "            M[i,j] -= row_mean\n",
    "    \n",
    "print(M)\n",
    "#next, the columns\n",
    "for j in range(len(M[0])):\n",
    "    column_mean = np.nanmean(M[:,j])\n",
    "    print('mean of column',j,column_mean)\n",
    "    \n",
    "    for i in range(len(M[0,:])):\n",
    "        if not math.isnan(M[j,i]):\n",
    "            M[j,i] -= column_mean\n",
    "    \n",
    "print(M)\n",
    "\n",
    "print(np.nanmean(M_original))\n",
    "print(np.nanmean(M))"
   ]
  },
  {
   "cell_type": "code",
   "execution_count": 53,
   "id": "8f4ccf93",
   "metadata": {},
   "outputs": [
    {
     "name": "stdout",
     "output_type": "stream",
     "text": [
      "0.0404861758478448\n",
      "[[1. 1.]\n",
      " [1. 1.]\n",
      " [1. 1.]\n",
      " [1. 1.]\n",
      " [1. 1.]]\n",
      "[[1. 1. 1. 1. 1.]\n",
      " [1. 1. 1. 1. 1.]]\n",
      "The history saving thread hit an unexpected error (OperationalError('database or disk is full')).History will not be written to the database.\n"
     ]
    }
   ],
   "source": [
    "#Initialization\n",
    "\n",
    "init_value = np.sqrt(np.nanmean(M)/2) #assuming d = 2, try many d values later \n",
    "print(init_value)\n",
    "#dont use the init value for now, try later \n",
    "\n",
    "U = np.ones((5,2))\n",
    "V = np.ones((2,5))\n",
    "print(U)\n",
    "print(V)"
   ]
  },
  {
   "cell_type": "code",
   "execution_count": 70,
   "id": "701d830d",
   "metadata": {},
   "outputs": [
    {
     "name": "stdout",
     "output_type": "stream",
     "text": [
      "[[ 1.47   -1.53    0.47    0.47   -0.53  ]\n",
      " [ 1.245  -0.755   0.245   2.245  -0.755 ]\n",
      " [-0.933      nan  0.067  -1.933   1.067 ]\n",
      " [-1.7464  1.2536  0.2536 -0.7464  1.2536]\n",
      " [-0.5089 -0.5089  0.4911 -0.5089     nan]]\n",
      "[[1. 1.]\n",
      " [1. 1.]\n",
      " [1. 1.]\n",
      " [1. 1.]\n",
      " [1. 1.]]\n",
      "[[1. 1. 1. 1. 1.]\n",
      " [1. 1. 1. 1. 1.]]\n",
      "5.0\n",
      "2.0\n",
      "4.0\n",
      "4.0\n",
      "3.0\n",
      "3.0\n",
      "1.0\n",
      "2.0\n",
      "4.0\n",
      "1.0\n",
      "2.0\n",
      "nan\n",
      "3.0\n",
      "1.0\n",
      "4.0\n",
      "2.0\n",
      "5.0\n",
      "4.0\n",
      "3.0\n",
      "5.0\n",
      "4.0\n",
      "4.0\n",
      "5.0\n",
      "4.0\n",
      "nan\n",
      "75.0\n",
      "[[2. 2. 2. 2. 2.]\n",
      " [2. 2. 2. 2. 2.]\n",
      " [2. 2. 2. 2. 2.]\n",
      " [2. 2. 2. 2. 2.]\n",
      " [2. 2. 2. 2. 2.]]\n"
     ]
    }
   ],
   "source": [
    "#Optimization\n",
    "print(M)\n",
    "print(U)\n",
    "print(V)\n",
    "\n",
    "RMSE = 0\n",
    "P = np.zeros((5,5))\n",
    "diff = np.zeros((5,5))\n",
    "for r in range(5):\n",
    "    for j in range(5):\n",
    "        print(M_original[r,j])\n",
    "        for k in range(2):\n",
    "            if k != j:\n",
    "            #print('performing operation with P')\n",
    "                P[r,j] = P[r,j] + U[r,k]*V[k,j] \n",
    "            else:\n",
    "                P[r,j] = P[r,j] +  U[r,j]*V[k,j] \n",
    "        if not math.isnan(M_original[r,j]):        \n",
    "            RMSE = RMSE + (M_original[r,j] - P[r,j])**2\n",
    "        #P[r,j] = P[r,j] + 1\n",
    "        #print(M[r,j])\n",
    "        \n",
    "print(RMSE)\n",
    "print(P)"
   ]
  },
  {
   "cell_type": "code",
   "execution_count": null,
   "id": "29f1b7d4",
   "metadata": {},
   "outputs": [],
   "source": []
  }
 ],
 "metadata": {
  "kernelspec": {
   "display_name": "Python 3 (ipykernel)",
   "language": "python",
   "name": "python3"
  },
  "language_info": {
   "codemirror_mode": {
    "name": "ipython",
    "version": 3
   },
   "file_extension": ".py",
   "mimetype": "text/x-python",
   "name": "python",
   "nbconvert_exporter": "python",
   "pygments_lexer": "ipython3",
   "version": "3.9.13"
  }
 },
 "nbformat": 4,
 "nbformat_minor": 5
}
