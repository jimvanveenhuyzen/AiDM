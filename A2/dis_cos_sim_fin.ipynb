{
 "cells": [
  {
   "cell_type": "code",
   "execution_count": 1,
   "id": "65596c04",
   "metadata": {},
   "outputs": [],
   "source": [
    "import numpy as np\n",
    "from scipy.sparse import csc_matrix\n",
    "import timeit\n",
    "import concurrent.futures\n",
    "import matplotlib.pyplot as plt"
   ]
  },
  {
   "cell_type": "code",
   "execution_count": 2,
   "id": "38848f51",
   "metadata": {},
   "outputs": [],
   "source": [
    "def random_projections(data_matrix, num_permutations):\n",
    "    np.random.seed(172)\n",
    "    random_perm_matrix = np.random.choice([-1, 1], size=(num_permutations, data_matrix.shape[0]))\n",
    "    signature_matrix = np.zeros((random_perm_matrix.shape[0], data_matrix.shape[1]))\n",
    "\n",
    "    for c in range(data_matrix.shape[1]):\n",
    "        x_T = data_matrix[:, c].T\n",
    "        for r in range(num_permutations): \n",
    "            dot_product = x_T.dot(random_perm_matrix[r, :])\n",
    "\n",
    "            if dot_product > 0:\n",
    "                signature_matrix[r, c] = 1\n",
    "            else:\n",
    "                signature_matrix[r, c] = -1\n",
    "\n",
    "    return signature_matrix"
   ]
  },
  {
   "cell_type": "code",
   "execution_count": 3,
   "id": "8d0489e4",
   "metadata": {},
   "outputs": [],
   "source": [
    "def discrete_cosine_similarity(q1, q2):\n",
    "    q1[q1 > 0] = 1\n",
    "    q2[q2 > 0] = 1\n",
    "\n",
    "    mag_q1 = np.linalg.norm(q1)\n",
    "    mag_q2 = np.linalg.norm(q2)\n",
    "\n",
    "    # Check for almost zero vectors\n",
    "    if mag_q1 < 1e-10 or mag_q2 < 1e-10:\n",
    "        return 1.0\n",
    "\n",
    "    dot_product = np.dot(q1, q2)\n",
    "    dot_product = np.clip(dot_product, -1.0, 1.0)  # Clip values to ensure they are within valid range\n",
    "\n",
    "    disc_cos_dist = np.arccos(dot_product / (mag_q1 * mag_q2))\n",
    "    disc_cos_sim = 1 - disc_cos_dist / np.pi\n",
    "\n",
    "    return disc_cos_sim"
   ]
  },
  {
   "cell_type": "code",
   "execution_count": 4,
   "id": "023fc001",
   "metadata": {},
   "outputs": [],
   "source": [
    "def random_hash_functions(num_functions, num_buckets):\n",
    "    np.random.seed(1702)\n",
    "    hash_functions = []\n",
    "    for _ in range(num_functions):\n",
    "        a = np.random.randint(1, num_buckets)\n",
    "        b = np.random.randint(0, num_buckets)\n",
    "        hash_functions.append(lambda x: tuple((a * xi + b) % num_buckets for xi in x))\n",
    "    return hash_functions"
   ]
  },
  {
   "cell_type": "code",
   "execution_count": 5,
   "id": "adaa0e0c",
   "metadata": {},
   "outputs": [],
   "source": [
    "def apply_lsh_band(band_id, signature_matrix, hash_functions, rows_per_band, num_users):\n",
    "    start_row = band_id * rows_per_band\n",
    "    end_row = (band_id + 1) * rows_per_band\n",
    "    sub_matrix = signature_matrix[start_row:end_row, :]\n",
    "\n",
    "    bucket_list = {}\n",
    "\n",
    "    for col_id in range(num_users):\n",
    "        hashed_value = tuple(hf(tuple(sub_matrix[:, col_id])) for hf in hash_functions)\n",
    "        if hashed_value not in bucket_list:\n",
    "            bucket_list[hashed_value] = []\n",
    "        bucket_list[hashed_value].append(col_id)\n",
    "\n",
    "    return bucket_list"
   ]
  },
  {
   "cell_type": "code",
   "execution_count": 6,
   "id": "b8fa3c25",
   "metadata": {},
   "outputs": [],
   "source": [
    "def apply_lsh_parallel(signature_matrix, hash_functions, num_bands, rows_per_band):\n",
    "    num_users = signature_matrix.shape[1]\n",
    "    bucket_lists = [{} for _ in range(num_bands)]\n",
    "\n",
    "    with concurrent.futures.ThreadPoolExecutor() as executor:\n",
    "        band_results = list(executor.map(\n",
    "            lambda x: apply_lsh_band(x, signature_matrix, hash_functions, rows_per_band, num_users),\n",
    "            range(num_bands)\n",
    "        ))\n",
    "\n",
    "    for band_id, band_result in enumerate(band_results):\n",
    "        bucket_lists[band_id] = band_result\n",
    "\n",
    "    return bucket_lists"
   ]
  },
  {
   "cell_type": "code",
   "execution_count": 7,
   "id": "283bc6b8",
   "metadata": {},
   "outputs": [],
   "source": [
    "def process_column(col_id, sub_matrix, hash_functions):\n",
    "    return tuple(hf(tuple(sub_matrix[:, col_id])) for hf in hash_functions)"
   ]
  },
  {
   "cell_type": "code",
   "execution_count": 8,
   "id": "8eaf615f",
   "metadata": {},
   "outputs": [],
   "source": [
    "def find_candidate_pairs(bucket_lists, cosine_similarity_threshold):\n",
    "    candidate_pairs = set()\n",
    "\n",
    "    for buckets in bucket_lists:\n",
    "        for bucket_id, user_list in buckets.items():\n",
    "            if len(user_list) > 1:\n",
    "                for i in range(len(user_list)):\n",
    "                    for j in range(i + 1, len(user_list)):\n",
    "                        user1 = user_list[i]\n",
    "                        user2 = user_list[j]\n",
    "                        candidate_pairs.add(tuple(sorted([user1, user2])))\n",
    "\n",
    "    return candidate_pairs"
   ]
  },
  {
   "cell_type": "code",
   "execution_count": 9,
   "id": "60359780",
   "metadata": {},
   "outputs": [],
   "source": [
    "def write_to_file(file_path, pairs):\n",
    "    with open(file_path, 'a') as f:  # Use 'a' mode to append to the file\n",
    "        for pair in pairs:\n",
    "            f.write(f\"{pair[0]}, {pair[1]}\\n\")"
   ]
  },
  {
   "cell_type": "code",
   "execution_count": 10,
   "id": "9226a26d",
   "metadata": {},
   "outputs": [],
   "source": [
    "def calculate_discrete_cosine_similarity(pair, sparse_col_matrix):\n",
    "    u1, u2 = pair\n",
    "    v1 = (sparse_col_matrix[:, u1].toarray()).flatten()\n",
    "    v2 = (sparse_col_matrix[:, u2].toarray()).flatten()\n",
    "\n",
    "    if not np.any(v1) or not np.any(v2):\n",
    "        print(\"Warning: Zero magnitude vector encountered for pair\", pair)\n",
    "        return u1, u2, 0  # Set similarity to zero for zero magnitude vectors\n",
    "\n",
    "    mag_v1 = np.linalg.norm(v1)\n",
    "    mag_v2 = np.linalg.norm(v2)\n",
    "\n",
    "    dot_product = np.dot(v1, v2)\n",
    "    disc_cos_dist = np.arccos(dot_product / (mag_v1 * mag_v2))\n",
    "    disc_cos_sim = 1 - disc_cos_dist / np.pi\n",
    "\n",
    "    return u1, u2, disc_cos_sim"
   ]
  },
  {
   "cell_type": "code",
   "execution_count": 11,
   "id": "01a202b6",
   "metadata": {},
   "outputs": [
    {
     "name": "stdout",
     "output_type": "stream",
     "text": [
      "Create signature matrix...\n",
      "Time to make signature matrix:  1.1856948854166665  minutes\n",
      "LSH Execution Time:  0.12100610554999988  minutes\n",
      "Candidate Pairs Execution Time:  0.004413124999999951  minutes\n",
      "632921\n",
      "Final Pairs Execution Time:  4.8468671145833335  minutes\n",
      "Discrete Cosine Similarity: 31 final pairs:\n",
      " [(66491, 98688, 0.7391208877361612), (58328, 91947, 0.751160503648811), (90660, 100801, 0.7401085434320913), (14944, 20668, 0.7384828012280948), (35855, 47930, 0.7389061979802631), (13752, 48992, 0.736190697470974), (3584, 50547, 0.7340740468995297), (27170, 78005, 0.7323454495893307), (5353, 19759, 0.7329374026011903), (63054, 101288, 0.7323936800271224), (4650, 70718, 0.7306715456298), (7518, 48671, 0.7343113717889169), (91158, 100549, 0.7479636504742695), (53912, 83313, 0.7321102065247074), (13029, 91947, 0.7439431566611154), (30722, 47930, 0.7408241803082813), (33146, 64421, 0.7306192890440297), (9772, 51237, 0.7431234323179883), (66491, 90660, 0.73241118000713), (66491, 100801, 0.7307054490087571), (90660, 98688, 0.7312559965049441), (18481, 24168, 0.7305528146581636), (63990, 73960, 0.7877237599363698), (46937, 47930, 0.7432726966974229), (47930, 56872, 0.7335727938508558), (13029, 58328, 0.7427722999746829), (28041, 98688, 0.7321940926679104), (98688, 100801, 0.7344725522188549), (10233, 63974, 0.7309645397792894), (6436, 58328, 0.7384636988574871), (29614, 42741, 0.7310366901787315)]\n"
     ]
    },
    {
     "data": {
      "image/png": "[encoded data removed]",
      "text/plain": [
       "<Figure size 640x480 with 1 Axes>"
      ]
     },
     "metadata": {},
     "output_type": "display_data"
    }
   ],
   "source": [
    "def main():\n",
    "    # Load the full data\n",
    "    data = np.load('user_movie_rating.npy')\n",
    "    \n",
    "    # Create a sparse column matrix\n",
    "    sparse_col_matrix = csc_matrix((data[:, 2], (data[:, 1], data[:, 0])))\n",
    "\n",
    "    # Create a signature matrix\n",
    "    print(\"Create signature matrix...\")\n",
    "    begin = timeit.default_timer()\n",
    "    signature_matrix = random_projections(sparse_col_matrix, num_permutations=80)\n",
    "    end = timeit.default_timer() - begin\n",
    "    print('Time to make signature matrix: ', end / 60, ' minutes')\n",
    "\n",
    "    # Define LSH parameters\n",
    "    num_hash_functions = 10\n",
    "    num_buckets = 1000000000000\n",
    "    num_bands = 1  # Experiment with the number of bands\n",
    "    rows_per_band = 17  # Experiment with the number of rows per band\n",
    "\n",
    "    # Generate random hash functions\n",
    "    hash_functions = random_hash_functions(num_hash_functions, num_buckets)\n",
    "\n",
    "    # Apply LSH in parallel\n",
    "    begin = timeit.default_timer()\n",
    "    bucket_lists = apply_lsh_parallel(signature_matrix, hash_functions, num_bands, rows_per_band)\n",
    "    end = timeit.default_timer() - begin\n",
    "    print('LSH Execution Time: ', end / 60, ' minutes')\n",
    "\n",
    "\n",
    "    # Find candidate pairs\n",
    "    begin = timeit.default_timer()\n",
    "    candidate_pairs = find_candidate_pairs(bucket_lists,cosine_similarity_threshold=0.73)\n",
    "    end = timeit.default_timer() - begin\n",
    "    print('Candidate Pairs Execution Time: ', end / 60, ' minutes')\n",
    "    print(len(candidate_pairs))\n",
    "\n",
    "    # Convert candidate_pairs set to a list\n",
    "    candidate_pairs = list(candidate_pairs)\n",
    "    begin = timeit.default_timer()\n",
    "    # Calculate discrete cosine similarity for candidate pairs\n",
    "    final_pairs_dcs = []\n",
    "\n",
    "    def process_batch_dcs(batch):\n",
    "        with concurrent.futures.ThreadPoolExecutor() as executor:\n",
    "            results = list(executor.map(lambda p: calculate_discrete_cosine_similarity(p, sparse_col_matrix), batch))\n",
    "        return [pair for pair in results if pair[2] > 0.73]\n",
    "\n",
    "    batch_size = 5000\n",
    "    for i in range(0, len(candidate_pairs), batch_size):\n",
    "        batch = candidate_pairs[i:i + batch_size]\n",
    "        final_pairs_dcs.extend(process_batch_dcs(batch))\n",
    "    end = timeit.default_timer() - begin\n",
    "    # Dump results to files\n",
    "    write_to_file('discrete_cosine_sim_results.txt', final_pairs_dcs)\n",
    "    print('Final Pairs Execution Time: ', end / 60, ' minutes')\n",
    "    print(\"Discrete Cosine Similarity:\", len(final_pairs_dcs), \"final pairs:\\n\", final_pairs_dcs)\n",
    "    \n",
    "    # Scatter plot for most similar pairs\n",
    "    most_similar_pairs = sorted(final_pairs_dcs, key=lambda x: x[2], reverse=True)[:50]\n",
    "\n",
    "    user_pairs = [(pair[0], pair[1]) for pair in most_similar_pairs]\n",
    "    similarity_scores = [pair[2] for pair in most_similar_pairs]\n",
    "\n",
    "    flattened_user_pairs = [user for pair in user_pairs for user in pair]\n",
    "    repeated_similarity_scores = [score for score in similarity_scores for _ in range(2)]\n",
    "\n",
    "    plt.scatter(flattened_user_pairs, repeated_similarity_scores)\n",
    "    plt.xlabel('Most Similar Pairs')\n",
    "    plt.ylabel('Discrete Cosine Similarity')\n",
    "    plt.show()\n",
    "    \n",
    "    return final_pairs_dcs, signature_matrix\n",
    "\n",
    "final_pairs_dcs, signature_matrix = main()"
   ]
  }
 ],
 "metadata": {
  "kernelspec": {
   "display_name": "Python 3 (ipykernel)",
   "language": "python",
   "name": "python3"
  },
  "language_info": {
   "codemirror_mode": {
    "name": "ipython",
    "version": 3
   },
   "file_extension": ".py",
   "mimetype": "text/x-python",
   "name": "python",
   "nbconvert_exporter": "python",
   "pygments_lexer": "ipython3",
   "version": "3.9.13"
  }
 },
 "nbformat": 4,
 "nbformat_minor": 5
}
