{
 "cells": [
  {
   "cell_type": "code",
   "execution_count": null,
   "id": "2c888a3b",
   "metadata": {},
   "outputs": [],
   "source": [
    "import numpy as np\n",
    "import pandas as pd\n",
    "import random\n",
    "from scipy.sparse import coo_matrix,csc_matrix,csr_matrix,lil_matrix \n",
    "import timeit\n",
    "\n",
    "data = np.load('user_movie_rating.npy')\n"
   ]
  },
  {
   "cell_type": "code",
   "execution_count": null,
   "id": "78d919ab",
   "metadata": {},
   "outputs": [],
   "source": [
    "print(data.shape)\n",
    "print(data)\n",
    "print(data[0:10])"
   ]
  },
  {
   "cell_type": "code",
   "execution_count": null,
   "id": "58e3e42e",
   "metadata": {},
   "outputs": [],
   "source": [
    "#read in the first 1 million elements to reduce the size\n",
    "\n",
    "user_ids = data[:1000000,0]\n",
    "movie_ids = data[:1000000,1]\n",
    "ratings = data[:1000000,2]\n",
    "\n",
    "#and also the full size, but this will be to large to make an array\n",
    "user_ids_full = data[:,0]\n",
    "movie_ids_full = data[:,1]\n",
    "ratings_full = data[:,2]\n",
    "\n",
    "#how many users selected? \n",
    "print(\"Number of selected users with user_ids is: \", len(user_ids))\n",
    "print(\"Number of selected users with user_ids_full is: \", len(user_ids_full))\n",
    "\n",
    "# creating sparse matrix, only use part of the elements to save memory \n",
    "sparse_colMatrix = csc_matrix((ratings, (movie_ids, user_ids)))\n",
    "sparse_colMatrix_full = csc_matrix((ratings_full, (movie_ids_full, user_ids_full)))\n",
    "#colMatrix_full = sparse_colMatrix_full.toarray()\n",
    "#print(sparse_colMatrix)\n",
    "\n",
    "sparse_rowMatrix = csr_matrix((ratings, (user_ids, movie_ids)))\n",
    "sparse_rowMatrix_full = csr_matrix((ratings_full, (user_ids_full, movie_ids_full)))\n",
    "#rowMatrix_full = sparse_rowMatrix_full.toarray()\n",
    "#print(sparse_rowMatrix)"
   ]
  },
  {
   "cell_type": "code",
   "execution_count": null,
   "id": "fbe38465",
   "metadata": {},
   "outputs": [],
   "source": [
    "rowMatrix = sparse_rowMatrix.toarray()\n",
    "colMatrix = sparse_colMatrix.toarray()"
   ]
  },
  {
   "cell_type": "code",
   "execution_count": null,
   "id": "5f36dffd",
   "metadata": {},
   "outputs": [],
   "source": [
    "np.random.seed(1702)\n",
    "\n",
    "#This is the example from the lecture slides\n",
    "example_matrix1 = np.transpose(np.array([[1, 1, 0, 0, 0, 1, 1], \n",
    "                          [0, 0, 1, 1, 1, 0, 0],\n",
    "                          [1, 0, 0, 0, 0, 1, 1],\n",
    "                          [0, 1, 1, 1, 1, 0, 0]]))\n",
    "test_perm1 = np.transpose(np.array([[1, 3, 7, 6, 2, 5, 4], \n",
    "                                    [4, 2, 1, 3, 6, 7, 5],\n",
    "                                    [3, 4, 7, 6, 1, 2, 5]]))\n",
    "test_perm1 = np.subtract(test_perm1, 1) #subtract 1 to start at index 0 like the example in the book\n",
    "\n",
    "#This is the example from the book chapter 3.3.5\n",
    "example_matrix2 = np.transpose(np.array([[1, 0, 0, 1, 0], \n",
    "                          [0, 0, 1, 0, 0],\n",
    "                          [0, 1, 0, 1, 1],\n",
    "                          [1, 0, 1, 1, 0]]))\n",
    "test_perm2 = np.transpose(np.array([[1, 2, 3, 4, 0], \n",
    "                                    [1, 4, 2, 0, 3]]))\n",
    "\n",
    "def examples(example_matrix, permutation):\n",
    "    print(\"Example Matrix:\\n\", example_matrix)\n",
    "    print(\"Hash functions:\\n\", permutation)\n",
    "\n",
    "    signatureMatrix = np.full((len(permutation[0]), example_matrix.shape[1]), np.inf)\n",
    "    print(\"\\nSignature Matrix:\\n\", signatureMatrix)\n",
    "\n",
    "    for r in range(0, example_matrix.shape[0]):\n",
    "        for c in range(0, example_matrix.shape[1]):\n",
    "            if example_matrix[r][c] == 1:\n",
    "                for i in range(0, len(permutation[0])):\n",
    "                    signatureMatrix[i][c] = min(signatureMatrix[i][c], int(permutation[r][i]))\n",
    "\n",
    "    print(\"\\nSignature Matrix:\\n\", signatureMatrix)\n",
    "\n",
    "    \n",
    "    \n",
    "examples(example_matrix1, test_perm1)"
   ]
  },
  {
   "cell_type": "code",
   "execution_count": null,
   "id": "c2e5bda2",
   "metadata": {},
   "outputs": [],
   "source": [
    "np.random.seed(1702)\n",
    "\n",
    "begin = timeit.default_timer()\n",
    "\n",
    "def minhashing(data_matrix):\n",
    "    print(\"Example Matrix:\\n\", data_matrix, \"with shape:\", data_matrix.shape)\n",
    "\n",
    "    random_perm_matrix = np.zeros((data_matrix.shape[0], 100))\n",
    "\n",
    "    random_perm = np.arange(data_matrix.shape[0])\n",
    "    print(random_perm)\n",
    "    for i in range(100):\n",
    "        np.random.shuffle(random_perm)\n",
    "        random_perm_matrix[:, i] = random_perm\n",
    "    print('The random matrix is\\n',random_perm_matrix, \"with shape:\", random_perm_matrix.shape)\n",
    "\n",
    "    signatureMatrix = np.full((random_perm_matrix.shape[1], data_matrix.shape[1]), np.inf)\n",
    "    print(\"\\nSignature Matrix:\\n\", signatureMatrix, \"with shape:\", signatureMatrix.shape)\n",
    "    \n",
    "    for r in range(0, data_matrix.shape[0]):\n",
    "        print(\"Row:\", r)\n",
    "        for c in range(0, data_matrix.shape[1]):\n",
    "            if data_matrix[r][c] == 1:\n",
    "                for i in range(0, random_perm_matrix.shape[1]):\n",
    "                    signatureMatrix[i][c] = min(signatureMatrix[i][c], int(random_perm_matrix[r][i]))\n",
    "                    \n",
    "\n",
    "    print(\"\\nSignature Matrix:\\n\", signatureMatrix)\n",
    "    \n",
    "    end = timeit.default_timer() - begin \n",
    "    print('The total time it took was ', end/60, ' minutes')\n",
    "    \n",
    "    return signatureMatrix\n",
    "\n",
    "minhashing(colMatrix)\n",
    "\n",
    "\n"
   ]
  },
  {
   "cell_type": "code",
   "execution_count": null,
   "id": "62493a50",
   "metadata": {},
   "outputs": [],
   "source": []
  },
  {
   "cell_type": "code",
   "execution_count": null,
   "id": "162653b6",
   "metadata": {},
   "outputs": [],
   "source": []
  },
  {
   "cell_type": "code",
   "execution_count": null,
   "id": "80e9eb1b",
   "metadata": {},
   "outputs": [],
   "source": []
  },
  {
   "cell_type": "code",
   "execution_count": null,
   "id": "1a61e121",
   "metadata": {},
   "outputs": [],
   "source": []
  },
  {
   "cell_type": "code",
   "execution_count": null,
   "id": "0284e985",
   "metadata": {},
   "outputs": [],
   "source": []
  },
  {
   "cell_type": "code",
   "execution_count": null,
   "id": "82dd42ed",
   "metadata": {},
   "outputs": [],
   "source": []
  },
  {
   "cell_type": "code",
   "execution_count": null,
   "id": "580b79f3",
   "metadata": {},
   "outputs": [],
   "source": []
  }
 ],
 "metadata": {
  "kernelspec": {
   "display_name": "Python 3 (ipykernel)",
   "language": "python",
   "name": "python3"
  },
  "language_info": {
   "codemirror_mode": {
    "name": "ipython",
    "version": 3
   },
   "file_extension": ".py",
   "mimetype": "text/x-python",
   "name": "python",
   "nbconvert_exporter": "python",
   "pygments_lexer": "ipython3",
   "version": "3.9.15"
  }
 },
 "nbformat": 4,
 "nbformat_minor": 5
}
