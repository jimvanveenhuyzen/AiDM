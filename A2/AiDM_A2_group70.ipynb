{
 "cells": [
  {
   "cell_type": "code",
   "execution_count": 28,
   "metadata": {},
   "outputs": [],
   "source": [
    "#Import all the neccessary libraries\n",
    "import numpy as np\n",
    "from scipy.sparse import csr_matrix,csc_matrix\n",
    "import timeit\n",
    "np.random.seed(1702)"
   ]
  },
  {
   "cell_type": "code",
   "execution_count": 27,
   "metadata": {},
   "outputs": [
    {
     "name": "stdout",
     "output_type": "stream",
     "text": [
      "Number of selected users with user_ids_full is:  103703\n"
     ]
    }
   ],
   "source": [
    "#Load in the large data file and inspect the data \n",
    "data = np.load('user_movie_rating.npy')\n",
    "\n",
    "#Split the data into three lists of ratings, movies and users respectively. \n",
    "user_ids_full = data[:,0]\n",
    "movie_ids_full = data[:,1]\n",
    "ratings_full = data[:,2]\n",
    "\n",
    "#Creating a sparse row matrix \n",
    "sparse_rowMatrix_full = csr_matrix((ratings_full, (movie_ids_full, user_ids_full)))\n",
    "\n",
    "#Remove the first column of the sparse row matrix, since it adds a column too many \n",
    "sparse_rowMatrix_full = sparse_rowMatrix_full[:,1:]\n",
    "#Check the amount of users\n",
    "print(\"Number of selected users with user_ids_full is: \", np.shape(sparse_rowMatrix_full[0,:])[1])"
   ]
  },
  {
   "cell_type": "code",
   "execution_count": 25,
   "metadata": {},
   "outputs": [],
   "source": [
    "#This code block creates a signature matrix for the data \n",
    "\n",
    "def minhashing(data_matrix,row_fraction,num_permutations):\n",
    "\n",
    "    #Make an empty (zeros) matrix for the 100 random permutations\n",
    "    random_perm_matrix = np.zeros((data_matrix.shape[0], num_permutations)) \n",
    "    random_perm = np.arange(data_matrix.shape[0])\n",
    "    for i in range(num_permutations):\n",
    "        #Make 100 random permutations of the columns, and place them into the random permutation matrix\n",
    "        np.random.shuffle(random_perm)\n",
    "        random_perm_matrix[:,i] = random_perm\n",
    "    print('The random matrix is\\n',random_perm_matrix, \"with shape:\", random_perm_matrix.shape)\n",
    "\n",
    "    #Make the signature matrix, which is initially filled with only inf-values\n",
    "    signatureMatrix = np.full((random_perm_matrix.shape[1], data_matrix.shape[1]), np.inf)\n",
    "    #Loop through the a set fraction of the total rows of the data we will use \n",
    "    for r in range(0, int(row_fraction*data_matrix.shape[0])): \n",
    "        random_perm_matrix_row = random_perm_matrix[r]\n",
    "            \n",
    "        #We first get the relevant row of the data, and then only loop over the non-zero elements! \n",
    "        data_matrix_row = data_matrix.getrow(r)\n",
    "        data_col_indices = data_matrix_row.indices #indices of the non-zero elements\n",
    "        \n",
    "        #Loop over the non-zero elements\n",
    "        for idx in data_col_indices:\n",
    "            signatureMatrix[:,idx] = np.minimum(signatureMatrix[:,idx],random_perm_matrix_row)              \n",
    "\n",
    "    print(\"\\nSignature Matrix:\\n\", signatureMatrix)\n",
    "    \n",
    "    return np.array(signatureMatrix,dtype=np.int16)"
   ]
  },
  {
   "cell_type": "code",
   "execution_count": 24,
   "metadata": {},
   "outputs": [],
   "source": [
    "def split_vector(signature, b, r):\n",
    "    # code splitting signature in b parts\n",
    "    subvecs = []\n",
    "    for i in range(0, S.shape[0],r):\n",
    "        subvecs.append(signature[i : i+r])\n",
    "    return np.array(subvecs,dtype=np.int32)\n",
    "\n",
    "#Function to generate a random hash function\n",
    "def generate_hash_function(size, total_users):\n",
    "    a = np.random.randint(1, 1000, size)\n",
    "    b = np.random.randint(1, 1000, size)\n",
    "    return lambda x: tuple((a * x + b) % total_users)\n",
    "\n",
    "def hashing(hash_functions,usersTotal):\n",
    "\n",
    "    #Hashing the bands to various buckets \n",
    "    hash_table = {}\n",
    "    hash_counter = 0 \n",
    "    candidate_pairs = []\n",
    "    for u in range(usersTotal):  # Iterate over all users\n",
    "        for band_idx in range(b):\n",
    "            current_band = split_S[band_idx, :, u]\n",
    "\n",
    "            #Apply the hash function to the band\n",
    "            hashed_value = hash_functions[band_idx](tuple(current_band))\n",
    "\n",
    "            if hashed_value not in hash_table:\n",
    "                hash_table[hashed_value] = [(u, band_idx)]\n",
    "            else:\n",
    "                for stored_pair in hash_table[hashed_value]:\n",
    "                    stored_u, stored_band_idx = stored_pair\n",
    "                    if np.array_equal(current_band, split_S[stored_band_idx, :, stored_u]):\n",
    "                        candidate_pairs.append((u, stored_u))\n",
    "                        hash_counter += 1\n",
    "\n",
    "                #Add the current pair to the hash table\n",
    "                hash_table[hashed_value].append((u, band_idx))\n",
    "\n",
    "    #Finally, we sort the candidate pairs such that we start off with the smallest u1 \n",
    "    candidate_pairs = np.array(candidate_pairs)\n",
    "    candidate_pairs[:,0], candidate_pairs[:,1] = candidate_pairs[:,1], candidate_pairs[:,0].copy()\n",
    "    sorted_idx = np.argsort(candidate_pairs[:,0])\n",
    "    candidate_pairs = candidate_pairs[sorted_idx]\n",
    "    print('The number of candidate pairs found is:',np.shape(candidate_pairs)[0])\n",
    "\n",
    "    return candidate_pairs"
   ]
  },
  {
   "cell_type": "code",
   "execution_count": 16,
   "metadata": {},
   "outputs": [
    {
     "name": "stdout",
     "output_type": "stream",
     "text": [
      "Accepted user pairs: \n",
      " [[413, 29806], [508, 102068], [3583, 33755], [5352, 42740], [6876, 36382], [7529, 58750], [7623, 36824], [7623, 58327], [8295, 33755], [8295, 49458], [9017, 61540], [9771, 55104], [10611, 53266], [11367, 74356], [15161, 51236], [15161, 35418], [15161, 53266], [16193, 18866], [20163, 63688], [20443, 74190], [25620, 49458], [25620, 96075], [26478, 85466], [26478, 38030], [28633, 30250], [30524, 55032], [31818, 58327], [32305, 35418], [32305, 47929], [33755, 98667], [33755, 101403], [33755, 100548], [33755, 54719], [33755, 98687], [33755, 73537], [33755, 91157], [33755, 51236], [33755, 91351], [33755, 46936], [33755, 85466], [33755, 63973], [33755, 68130], [35418, 53266], [36041, 85466], [36382, 91579], [37358, 68130], [38030, 85466], [38030, 58327], [38030, 99432], [46364, 74190], [46552, 85466], [47112, 63973], [47112, 100548], [47112, 73537], [47929, 100548], [47929, 81869], [48991, 81962], [49458, 96075], [49458, 63973], [51236, 101403], [51236, 85466], [51236, 91351], [51236, 52431], [52431, 85466], [52431, 101403], [52494, 99903], [53266, 58327], [58327, 94606], [58327, 78268], [58327, 85466], [58327, 74190], [63259, 91351], [63973, 98687], [63973, 96075], [63973, 101403], [66758, 83312], [73537, 98667], [74874, 100976], [81962, 94427], [85466, 101403], [85466, 91351], [91157, 100548], [91351, 99432], [96075, 101403], [97493, 100078], [98623, 103531]]\n",
      "Jaccard Similarity value: \n",
      " [0.5334802976026454, 0.5597648595689092, 0.5132145052243393, 0.5168539325842697, 0.5002757859900717, 0.5115115115115115, 0.5258557902403496, 0.5294509151414309, 0.5120178870877585, 0.5254629629629629, 0.5194479297365119, 0.5312199807877042, 0.5047579644187009, 0.5204375359815774, 0.5060948081264108, 0.50512104283054, 0.5363869863013698, 0.542793509385937, 0.5201668984700973, 0.5335929892891919, 0.502906976744186, 0.5085714285714286, 0.5042801556420233, 0.5024928774928775, 0.5080049261083743, 0.723568281938326, 0.5248372730387119, 0.514865502595564, 0.5211602472658108, 0.5028538812785388, 0.5174860618347694, 0.5293132328308208, 0.5061005368472425, 0.521244763614602, 0.5323545405111474, 0.5103814582327378, 0.5125968992248062, 0.5012933264355923, 0.511601584606678, 0.506109022556391, 0.5330467490596453, 0.5222414789139226, 0.5444870157513836, 0.5037357451828549, 0.5166349809885932, 0.5002712967986978, 0.5140151515151515, 0.5019788918205804, 0.5072171869754951, 0.523034398034398, 0.5038065382892969, 0.5129533678756477, 0.5333333333333333, 0.5378464818763327, 0.5263696876600102, 0.5200386286817963, 0.516185784658691, 0.5013989927252378, 0.5048648648648648, 0.5103697024346258, 0.5159642401021711, 0.5146443514644351, 0.5099425541316837, 0.5184381778741866, 0.5087155963302752, 0.8378839590443686, 0.5299264963248163, 0.5081613797351401, 0.5088980150581793, 0.50304114490161, 0.5295031055900621, 0.5017064846416383, 0.5117883841288097, 0.503707627118644, 0.50439453125, 0.5105022831050229, 0.5092748735244519, 0.5072886297376094, 0.5217561740493923, 0.515673289183223, 0.50903342366757, 0.5156402737047898, 0.5058915946582875, 0.500503524672709, 0.5020228025009195, 0.5068127962085308]\n",
      "Number of similar user pairs: 86\n"
     ]
    }
   ],
   "source": [
    "def jaccard_similarity(candidate_pairs,data=sparse_rowMatrix_full):\n",
    "    #In this function we use numpy to vectorize the Jaccard Similarity calculations for all candidate pairs\n",
    "    #Using numpy drastically improves the efficiency of the code\n",
    "    #The memory cost of converting sparse row matrices with datatype int64 costs a lot of RAM, so for that reason we convert the dtype to int8 first \n",
    "    users1 = data[:,candidate_pairs[:,0]].astype(np.int8).toarray()\n",
    "    users2 = data[:,candidate_pairs[:,1]].astype(np.int8).toarray()\n",
    "\n",
    "    one_gave_rating = np.logical_and(users1,users2) #The logical AND operator represents the intersection\n",
    "    both_gave_rating = np.logical_or(users1,users2) #The logical OR operator represents the union \n",
    "\n",
    "    num_pairs = len(candidate_pairs[:,0])\n",
    "    simPairs = []\n",
    "    simPairs_value = []\n",
    "    with open('js.txt','a') as file:\n",
    "        for i in range(num_pairs):\n",
    "            nom = np.sum(one_gave_rating[:,i])\n",
    "            denom = np.sum(both_gave_rating[:,i])\n",
    "            total = nom/denom\n",
    "            if total > 0.5 and total not in simPairs_value:\n",
    "                simPairs.append(candidate_pairs[i].tolist())\n",
    "                simPairs_value.append(total)\n",
    "                file.write(f\"{candidate_pairs[i,0]}, {candidate_pairs[i,1]}\\n\")\n",
    "    print('Accepted user pairs: \\n',simPairs)\n",
    "    print('Jaccard Similarity value: \\n',simPairs_value)\n",
    "    print('Number of similar user pairs:',len(simPairs_value))\n",
    "    return simPairs,simPairs_value\n"
   ]
  },
  {
   "cell_type": "code",
   "execution_count": 23,
   "metadata": {},
   "outputs": [
    {
     "name": "stdout",
     "output_type": "stream",
     "text": [
      "The random matrix is\n",
      " [[12137.  7382. 14975. ... 10237.  5995. 17203.]\n",
      " [12514. 14136. 17167. ...  5079. 17416. 16927.]\n",
      " [13725. 14087. 12637. ... 14096.  4122. 14938.]\n",
      " ...\n",
      " [12472.  8508.  4043. ... 15336. 14476.  6994.]\n",
      " [ 1877.  5676.  8428. ... 15009.  7281. 16299.]\n",
      " [16452.  6678.  3521. ... 11189.   847.  9936.]] with shape: (17771, 180)\n",
      "\n",
      "Signature Matrix:\n",
      " [[ 113.  113.  113. ...  149.  113.  113.]\n",
      " [ 153.  153.  153. ...  228. 1108.  153.]\n",
      " [   8.    8.    8. ... 2149.   86.    8.]\n",
      " ...\n",
      " [  42.  232.  228. ...   42.  232.   42.]\n",
      " [ 221.  780.  189. ...  274.  353. 1193.]\n",
      " [ 178.  938.  123. ...  119.  498. 1402.]]\n",
      "The signature matrix split into bands has shape (20, 9, 103703)\n",
      "Accepted user pairs: \n",
      " [[413, 29806], [508, 102068], [3583, 33755], [5352, 42740], [6876, 36382], [7529, 58750], [7623, 36824], [7623, 58327], [8295, 33755], [8295, 49458], [9017, 61540], [9771, 55104], [10611, 53266], [11367, 74356], [15161, 51236], [15161, 35418], [15161, 53266], [16193, 18866], [20163, 63688], [20443, 74190], [25620, 49458], [25620, 96075], [26478, 85466], [26478, 38030], [28633, 30250], [30524, 55032], [31818, 58327], [32305, 35418], [32305, 47929], [33755, 98667], [33755, 101403], [33755, 100548], [33755, 54719], [33755, 98687], [33755, 73537], [33755, 91157], [33755, 51236], [33755, 91351], [33755, 46936], [33755, 85466], [33755, 63973], [33755, 68130], [35418, 53266], [36041, 85466], [36382, 91579], [37358, 68130], [38030, 85466], [38030, 58327], [38030, 99432], [46364, 74190], [46552, 85466], [47112, 63973], [47112, 100548], [47112, 73537], [47929, 100548], [47929, 81869], [48991, 81962], [49458, 96075], [49458, 63973], [51236, 101403], [51236, 85466], [51236, 91351], [51236, 52431], [52431, 85466], [52431, 101403], [52494, 99903], [53266, 58327], [58327, 94606], [58327, 78268], [58327, 85466], [58327, 74190], [63259, 91351], [63973, 98687], [63973, 96075], [63973, 101403], [66758, 83312], [73537, 98667], [74874, 100976], [81962, 94427], [85466, 101403], [85466, 91351], [91157, 100548], [91351, 99432], [96075, 101403], [97493, 100078], [98623, 103531]]\n",
      "Jaccard Similarity value: \n",
      " [0.5334802976026454, 0.5597648595689092, 0.5132145052243393, 0.5168539325842697, 0.5002757859900717, 0.5115115115115115, 0.5258557902403496, 0.5294509151414309, 0.5120178870877585, 0.5254629629629629, 0.5194479297365119, 0.5312199807877042, 0.5047579644187009, 0.5204375359815774, 0.5060948081264108, 0.50512104283054, 0.5363869863013698, 0.542793509385937, 0.5201668984700973, 0.5335929892891919, 0.502906976744186, 0.5085714285714286, 0.5042801556420233, 0.5024928774928775, 0.5080049261083743, 0.723568281938326, 0.5248372730387119, 0.514865502595564, 0.5211602472658108, 0.5028538812785388, 0.5174860618347694, 0.5293132328308208, 0.5061005368472425, 0.521244763614602, 0.5323545405111474, 0.5103814582327378, 0.5125968992248062, 0.5012933264355923, 0.511601584606678, 0.506109022556391, 0.5330467490596453, 0.5222414789139226, 0.5444870157513836, 0.5037357451828549, 0.5166349809885932, 0.5002712967986978, 0.5140151515151515, 0.5019788918205804, 0.5072171869754951, 0.523034398034398, 0.5038065382892969, 0.5129533678756477, 0.5333333333333333, 0.5378464818763327, 0.5263696876600102, 0.5200386286817963, 0.516185784658691, 0.5013989927252378, 0.5048648648648648, 0.5103697024346258, 0.5159642401021711, 0.5146443514644351, 0.5099425541316837, 0.5184381778741866, 0.5087155963302752, 0.8378839590443686, 0.5299264963248163, 0.5081613797351401, 0.5088980150581793, 0.50304114490161, 0.5295031055900621, 0.5017064846416383, 0.5117883841288097, 0.503707627118644, 0.50439453125, 0.5105022831050229, 0.5092748735244519, 0.5072886297376094, 0.5217561740493923, 0.515673289183223, 0.50903342366757, 0.5156402737047898, 0.5058915946582875, 0.500503524672709, 0.5020228025009195, 0.5068127962085308]\n",
      "Number of similar user pairs: 86\n"
     ]
    }
   ],
   "source": [
    "def apply_jaccardSim():\n",
    "\n",
    "    b = 20  #Number of bands we want to use to split the signature matrix in        \n",
    "    r = 9   #The rows of values per band \n",
    "    m = 0.1 #fraction of rows that we want to pick a random permutation from. According to the book (top of page 88), the\n",
    "            #resulting signature matrix should still be valid. This also increases speed of the calculation of the signature matrix \n",
    "            #by a factor 1/m, which helps a lot. \n",
    "\n",
    "    sigMatrix = minhashing(sparse_rowMatrix_full,m,int(b*r))\n",
    "    split_sigMatrix = split_vector(sigMatrix,b,r)\n",
    "    dim_bandedMatrix = np.shape(split_sigMatrix)\n",
    "    print('The signature matrix split into bands has shape',dim_bandedMatrix)\n",
    "\n",
    "    hash_functions = [generate_hash_function(r, dim_bandedMatrix[2]) for _ in range(b)]\n",
    "    candidate_pairs = hashing(hash_functions,dim_bandedMatrix[2])\n",
    "    jaccard_similarity(candidate_pairs)    \n",
    "\n",
    "apply_jaccardSim()"
   ]
  }
 ],
 "metadata": {
  "kernelspec": {
   "display_name": "base",
   "language": "python",
   "name": "python3"
  },
  "language_info": {
   "codemirror_mode": {
    "name": "ipython",
    "version": 3
   },
   "file_extension": ".py",
   "mimetype": "text/x-python",
   "name": "python",
   "nbconvert_exporter": "python",
   "pygments_lexer": "ipython3",
   "version": "3.8.16"
  }
 },
 "nbformat": 4,
 "nbformat_minor": 2
}
