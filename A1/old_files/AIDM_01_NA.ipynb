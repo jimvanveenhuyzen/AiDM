{
  "nbformat": 4,
  "nbformat_minor": 0,
  "metadata": {
    "colab": {
      "provenance": [],
      "machine_shape": "hm",
      "gpuType": "T4"
    },
    "kernelspec": {
      "name": "python3",
      "display_name": "Python 3"
    },
    "language_info": {
      "name": "python"
    },
    "accelerator": "GPU"
  },
  "cells": [
    {
      "cell_type": "code",
      "execution_count": 89,
      "metadata": {
        "id": "JezypYlPhlkE"
      },
      "outputs": [],
      "source": [
        "import warnings\n",
        "warnings.filterwarnings(\"ignore\")\n",
        "import pandas as pd\n",
        "import numpy as np\n",
        "from sklearn.model_selection import KFold\n",
        "from sklearn.linear_model import LinearRegression\n",
        "from sklearn.model_selection import train_test_split\n",
        "from sklearn.metrics import mean_absolute_error, mean_squared_error\n",
        "from math import sqrt"
      ]
    },
    {
      "cell_type": "code",
      "source": [
        "#Users data\n",
        "usersData = pd.read_csv('users.dat', sep='::', header=None, names=['UserID', 'Gender', 'Age', 'Occupation', 'Zip-code'], engine='python')\n",
        "\n",
        "#Ratings data\n",
        "ratingsData = pd.read_csv('ratings.dat', sep='::', header=None, names=['UserID', 'MovieID', 'Rating', 'Timestamp'], engine='python')\n",
        "\n",
        "#Movies data\n",
        "moviesData = pd.read_csv('movies.dat', sep='::', header=None, names=['MovieID', 'Title', 'Genres'], engine='python', encoding='latin1')"
      ],
      "metadata": {
        "id": "r2jjo1hdinZI"
      },
      "execution_count": 90,
      "outputs": []
    },
    {
      "cell_type": "code",
      "source": [
        "#Users data\n",
        "print(usersData.head())\n",
        "\n",
        "#Ratings data\n",
        "print(ratingsData.head())\n",
        "\n",
        "#Movies data\n",
        "print(moviesData.head())"
      ],
      "metadata": {
        "colab": {
          "base_uri": "https://localhost:8080/"
        },
        "id": "VQPUco7ziu__",
        "outputId": "73f70523-9f60-4285-dce2-dc0aa0ba5abf"
      },
      "execution_count": 91,
      "outputs": [
        {
          "output_type": "stream",
          "name": "stdout",
          "text": [
            "   UserID Gender  Age  Occupation Zip-code\n",
            "0       1      F    1          10    48067\n",
            "1       2      M   56          16    70072\n",
            "2       3      M   25          15    55117\n",
            "3       4      M   45           7    02460\n",
            "4       5      M   25          20    55455\n",
            "   UserID  MovieID  Rating  Timestamp\n",
            "0       1     1193       5  978300760\n",
            "1       1      661       3  978302109\n",
            "2       1      914       3  978301968\n",
            "3       1     3408       4  978300275\n",
            "4       1     2355       5  978824291\n",
            "   MovieID                               Title                        Genres\n",
            "0        1                    Toy Story (1995)   Animation|Children's|Comedy\n",
            "1        2                      Jumanji (1995)  Adventure|Children's|Fantasy\n",
            "2        3             Grumpier Old Men (1995)                Comedy|Romance\n",
            "3        4            Waiting to Exhale (1995)                  Comedy|Drama\n",
            "4        5  Father of the Bride Part II (1995)                        Comedy\n"
          ]
        }
      ]
    },
    {
      "cell_type": "code",
      "source": [
        "#Calculating the Global Average Rating\n",
        "globalAvgRating = ratingsData[\"Rating\"].mean()\n",
        "print(\"The Global Average Rating is\", globalAvgRating)"
      ],
      "metadata": {
        "colab": {
          "base_uri": "https://localhost:8080/"
        },
        "id": "KPNTPs7OWKGM",
        "outputId": "513069ac-9c55-4ce7-8953-e757e8572001"
      },
      "execution_count": 92,
      "outputs": [
        {
          "output_type": "stream",
          "name": "stdout",
          "text": [
            "The Global Average Rating is 3.581564453029317\n"
          ]
        }
      ]
    },
    {
      "cell_type": "code",
      "source": [
        "#Initialising the variables for error metrics\n",
        "totalMAE = 0\n",
        "totalRMSE = 0\n",
        "\n",
        "#Performing 5 fold cross validation\n",
        "kf = KFold(n_splits=5, shuffle=True, random_state=42)\n",
        "\n",
        "for train_index, test_index in kf.split(ratingsData):\n",
        "    trainSet = ratingsData.iloc[train_index]\n",
        "    testSet = ratingsData.iloc[test_index]\n",
        "\n",
        "    #Global average Rating\n",
        "    globalAverageRating = trainSet[\"Rating\"].mean()\n",
        "\n",
        "    #Dictionaries to store user and movie average ratings\n",
        "    userAverageRating = trainSet.groupby(\"UserID\")[\"Rating\"].mean().to_dict()\n",
        "    movieAverageRating = trainSet.groupby(\"MovieID\")[\"Rating\"].mean().to_dict()\n",
        "\n",
        "    #List to store predictions\n",
        "    predictions = []\n",
        "\n",
        "    #Iterating through the test set and make predictions\n",
        "    for _, row in testSet.iterrows():\n",
        "        user_id = row[\"UserID\"]\n",
        "        movie_id = row[\"MovieID\"]\n",
        "\n",
        "        #Condition to check if user or movie is not in the training data\n",
        "        if user_id not in userAverageRating or movie_id not in movieAverageRating:\n",
        "            predictedRating = globalAverageRating\n",
        "        else:\n",
        "            #Calculating the predicted rating using the user and movie average\n",
        "            predictedRating = (\n",
        "                userAverageRating.get(user_id, globalAverageRating)\n",
        "                + movieAverageRating.get(movie_id, globalAverageRating)\n",
        "                - globalAverageRating\n",
        "            )\n",
        "\n",
        "        # Ensure the predicted rating is within the valid range [1, 5]\n",
        "        predictedRating = min(5, max(1, predictedRating))\n",
        "\n",
        "        predictions.append(predictedRating)\n",
        "\n",
        "    #Replacing the NAN values with global average rating\n",
        "    predictions = [globalAvgRating if np.isnan(x) else x for x in predictions]\n",
        "\n",
        "    #Calculating MAE and RMSE\n",
        "    mae = mean_absolute_error(testSet[\"Rating\"], predictions)\n",
        "    rmse = np.sqrt(mean_squared_error(testSet[\"Rating\"], predictions))\n",
        "\n",
        "    totalMAE += mae\n",
        "    totalRMSE += rmse\n",
        "\n",
        "# Calculate the average MAE and RMSE over all folds\n",
        "averageMAE = totalMAE / 5\n",
        "averageRMSE = totalRMSE / 5\n",
        "\n",
        "print(\"The Average MAE is\", averageMAE)\n",
        "print(\"The Average RMSE is\", averageRMSE)"
      ],
      "metadata": {
        "colab": {
          "base_uri": "https://localhost:8080/"
        },
        "id": "fBjIj95kWwar",
        "outputId": "6355ce08-0b29-4a91-c5bc-7d044f7eaea0"
      },
      "execution_count": 93,
      "outputs": [
        {
          "output_type": "stream",
          "name": "stdout",
          "text": [
            "The Average MAE is 0.732557217730404\n",
            "The Average RMSE is 0.9338024482626637\n"
          ]
        }
      ]
    },
    {
      "cell_type": "code",
      "source": [
        "#5 flod cross validation\n",
        "kf = KFold(n_splits=5, shuffle=True, random_state=42)\n",
        "\n",
        "MAE_Scores = []\n",
        "RMSE_Scores = []\n",
        "\n",
        "for train_index, test_index in kf.split(ratingsData):\n",
        "    trainSet, testSet = ratingsData.iloc[train_index], ratingsData.iloc[test_index]\n",
        "\n",
        "    # Avg user rating for the training set\n",
        "    AvgUserRating = trainSet.groupby('UserID')['Rating'].mean().to_dict()\n",
        "\n",
        "    #Predicting the user ratings in the test set and getting a copy of the slice\n",
        "    testSet = testSet.copy()\n",
        "    testSet['PredictedRating'] = testSet['UserID'].map(AvgUserRating)\n",
        "\n",
        "    #MAE and RMSE\n",
        "    MAE = mean_absolute_error(testSet['Rating'], testSet['PredictedRating'])\n",
        "    RMSE = np.sqrt(mean_squared_error(testSet['Rating'], testSet['PredictedRating']))\n",
        "\n",
        "    MAE_Scores.append(MAE)\n",
        "    RMSE_Scores.append(RMSE)\n",
        "\n",
        "# Calculate average MAE and RMSE over all folds\n",
        "Avg_MAE = np.mean(MAE_Scores)\n",
        "Avg_RMSE = np.mean(RMSE_Scores)\n",
        "\n",
        "print(\"The Average MAE is\", Avg_MAE)\n",
        "print(\"The Average RMSE is\", Avg_RMSE)"
      ],
      "metadata": {
        "colab": {
          "base_uri": "https://localhost:8080/"
        },
        "id": "pNV4YqUDWxlc",
        "outputId": "3e2b3dc3-191e-4e4c-f4d7-ab0361f1c78f"
      },
      "execution_count": 94,
      "outputs": [
        {
          "output_type": "stream",
          "name": "stdout",
          "text": [
            "The Average MAE is 0.8289498348484926\n",
            "The Average RMSE is 1.0354800404316435\n"
          ]
        }
      ]
    },
    {
      "cell_type": "code",
      "source": [
        "#Avereage rating for each of the movies\n",
        "AvgMovieRating = ratingsData.groupby('MovieID')['Rating'].mean().to_dict()\n",
        "\n",
        "#Applying the recommender to the test set\n",
        "testSet['PredictedRating'] = testSet['MovieID'].map(AvgMovieRating)\n",
        "\n",
        "#MAE & RMSE\n",
        "MAE = mean_absolute_error(testSet['Rating'], testSet['PredictedRating'])\n",
        "RMSE = mean_squared_error(testSet['Rating'], testSet['PredictedRating'], squared=False)\n",
        "\n",
        "print(\"MAE:\", MAE)\n",
        "print(\"RMSE:\", RMSE)"
      ],
      "metadata": {
        "colab": {
          "base_uri": "https://localhost:8080/"
        },
        "id": "68uJmjqHWxja",
        "outputId": "f7a198db-9859-4dde-b220-03d405591337"
      },
      "execution_count": 95,
      "outputs": [
        {
          "output_type": "stream",
          "name": "stdout",
          "text": [
            "MAE: 0.7796494048920112\n",
            "RMSE: 0.9755265559644645\n"
          ]
        }
      ]
    },
    {
      "cell_type": "code",
      "source": [
        "#global average rating\n",
        "globalAverageRating = ratingsData['Rating'].mean()\n",
        "\n",
        "#Applying the recommender to the test set\n",
        "testSet['PredictedRating'] = globalAverageRating\n",
        "\n",
        "#MAE and RMSE\n",
        "MAE = mean_absolute_error(testSet['Rating'], testSet['PredictedRating'])\n",
        "RMSE = mean_squared_error(testSet['Rating'], testSet['PredictedRating'], squared=False)\n",
        "\n",
        "print(\"MAE:\", MAE)\n",
        "print(\"RMSE:\", RMSE)"
      ],
      "metadata": {
        "colab": {
          "base_uri": "https://localhost:8080/"
        },
        "id": "8HYbHrGcWxhi",
        "outputId": "9bd40303-e7ca-42fe-db2c-76c1dd431664"
      },
      "execution_count": 96,
      "outputs": [
        {
          "output_type": "stream",
          "name": "stdout",
          "text": [
            "MAE: 0.9336170940472399\n",
            "RMSE: 1.1164859152763942\n"
          ]
        }
      ]
    },
    {
      "cell_type": "code",
      "source": [
        "#Average Rating for each of the user\n",
        "userAverageRating = ratingsData.groupby('UserID')['Rating'].mean().to_dict()\n",
        "\n",
        "#Applying the recommender to the test set\n",
        "testSet['PredictedRating'] = testSet['UserID'].map(userAverageRating)\n",
        "\n",
        "#Filling the missing average with average ratings\n",
        "testSet['PredictedRating'].fillna(globalAverageRating, inplace=True)\n",
        "\n",
        "#MAE & RMSE\n",
        "MAE = mean_absolute_error(testSet['Rating'], testSet['PredictedRating'])\n",
        "RMSE = mean_squared_error(testSet['Rating'], testSet['PredictedRating'], squared=False)\n",
        "\n",
        "print(\"MAE:\", MAE)\n",
        "print(\"RMSE:\", RMSE)"
      ],
      "metadata": {
        "colab": {
          "base_uri": "https://localhost:8080/"
        },
        "id": "pOwkUnxDWxeC",
        "outputId": "7780d6a4-e7dc-41ca-90b5-7eecf2bc252e"
      },
      "execution_count": 97,
      "outputs": [
        {
          "output_type": "stream",
          "name": "stdout",
          "text": [
            "MAE: 0.8225786635080068\n",
            "RMSE: 1.027543645855075\n"
          ]
        }
      ]
    },
    {
      "cell_type": "code",
      "source": [
        "#Average rating for each of the movies\n",
        "movieAvgRating = ratingsData.groupby('MovieID')['Rating'].mean().to_dict()\n",
        "\n",
        "#Applying the recommender to the test set\n",
        "testSet['PredictedRating'] = testSet['MovieID'].map(movieAvgRating)\n",
        "\n",
        "#Filling the missing value with global average\n",
        "testSet['PredictedRating'].fillna(globalAverageRating, inplace=True)\n",
        "\n",
        "# MAE & RMSE\n",
        "MAE = mean_absolute_error(testSet['Rating'], testSet['PredictedRating'])\n",
        "RMSE = mean_squared_error(testSet['Rating'], testSet['PredictedRating'], squared=False)\n",
        "\n",
        "print(\"MAE:\", MAE)\n",
        "print(\"RMSE:\", RMSE)"
      ],
      "metadata": {
        "colab": {
          "base_uri": "https://localhost:8080/"
        },
        "id": "LtZL8BA5Wxb-",
        "outputId": "43fdb5b7-7ade-4cf6-8484-eb84ae0b086f"
      },
      "execution_count": 98,
      "outputs": [
        {
          "output_type": "stream",
          "name": "stdout",
          "text": [
            "MAE: 0.7796494048920112\n",
            "RMSE: 0.9755265559644645\n"
          ]
        }
      ]
    },
    {
      "cell_type": "code",
      "source": [
        "# Initialize variables for error metrics\n",
        "totalMAE = 0\n",
        "totalRMSE = 0\n",
        "\n",
        "# Perform 5-fold cross-validation\n",
        "kf = KFold(n_splits=5, shuffle=True, random_state=42)\n",
        "\n",
        "for train_index, test_index in kf.split(ratingsData):\n",
        "    train_set = ratingsData.iloc[train_index]\n",
        "    test_set = ratingsData.iloc[test_index]\n",
        "\n",
        "    # Calculate the global average rating\n",
        "    globalAverageRating = train_set[\"Rating\"].mean()\n",
        "\n",
        "    # Calculate user and movie average ratings\n",
        "    userAverageRating = train_set.groupby(\"UserID\")[\"Rating\"].mean().to_dict()\n",
        "    movieAverageRating = train_set.groupby(\"MovieID\")[\"Rating\"].mean().to_dict()\n",
        "\n",
        "    # Linear regression to estimate alpha, beta, and gamma\n",
        "    X = train_set[[\"UserID\", \"MovieID\"]]\n",
        "    y = train_set[\"Rating\"]\n",
        "\n",
        "    model = LinearRegression()\n",
        "    model.fit(X, y)\n",
        "\n",
        "    alpha = model.coef_[0]\n",
        "    beta = model.coef_[1]\n",
        "    gamma = model.intercept_\n",
        "\n",
        "    #To store predictions\n",
        "    predictions = []\n",
        "\n",
        "    # Iterating through the testset and make predictions\n",
        "    for _, row in test_set.iterrows():\n",
        "        user_id = row[\"UserID\"]\n",
        "        movie_id = row[\"MovieID\"]\n",
        "\n",
        "        # Calculating the predicted rating using linear combination\n",
        "        if user_id in userAverageRating and movie_id in movieAverageRating:\n",
        "            predictedRating = alpha * userAverageRating[user_id] + beta * movieAverageRating[movie_id] + gamma\n",
        "        else:\n",
        "            predictedRating = globalAverageRating\n",
        "\n",
        "        # Checking the predicted rating is within the valid range [1, 5]\n",
        "        predictedRating = min(5, max(1, predictedRating))\n",
        "        predictions.append(predictedRating)\n",
        "\n",
        "    # Calculating the MAE and RMSE\n",
        "    mae = mean_absolute_error(test_set[\"Rating\"], predictions)\n",
        "    rmse = np.sqrt(mean_squared_error(test_set[\"Rating\"], predictions))\n",
        "\n",
        "    totalMAE += mae\n",
        "    totalRMSE += rmse\n",
        "\n",
        "# Calculating the average MAE and RMSE over all folds\n",
        "averageMAE = totalMAE / 5\n",
        "averageRMSE = totalRMSE / 5\n",
        "\n",
        "print(\"The Average MAE is\", averageMAE)\n",
        "print(\"The Average RMSE is\", averageRMSE)"
      ],
      "metadata": {
        "colab": {
          "base_uri": "https://localhost:8080/"
        },
        "id": "_xrtDMcYHtZa",
        "outputId": "e3cf490c-81d4-4c05-84fa-f0f5273cbb44"
      },
      "execution_count": 99,
      "outputs": [
        {
          "output_type": "stream",
          "name": "stdout",
          "text": [
            "The Average MAE is 0.9189324683047826\n",
            "The Average RMSE is 1.1215123148736876\n"
          ]
        }
      ]
    },
    {
      "cell_type": "code",
      "source": [
        "# Initialising the variables for error metrics\n",
        "totalMAE_userItem = 0\n",
        "totalRMSE_userItem = 0\n",
        "\n",
        "# Perform 5-fold cross-validation\n",
        "kf = KFold(n_splits=5, shuffle=True, random_state=42)\n",
        "\n",
        "for train_index, test_index in kf.split(ratingsData):\n",
        "    train_set = ratingsData.iloc[train_index]\n",
        "    test_set = ratingsData.iloc[test_index]\n",
        "\n",
        "    # Linear regression to estimate alpha, beta_user, and gamma_userItem\n",
        "    X = train_set[['UserID', 'MovieID']]\n",
        "    y = train_set['Rating']\n",
        "\n",
        "    model = LinearRegression()\n",
        "    model.fit(X, y)\n",
        "\n",
        "    alpha_userItem = model.coef_[0]\n",
        "    beta_userItem = model.coef_[1]\n",
        "    gamma_userItem = model.intercept_\n",
        "\n",
        "    # To store predictions for Ruser-item(user, item)\n",
        "    predictions_userItem = []\n",
        "\n",
        "    #Iterating the testset to make the predictions\n",
        "    for _, row in test_set.iterrows():\n",
        "        user_id = row['UserID']\n",
        "        movie_id = row['MovieID']\n",
        "\n",
        "        #Calculating the predicted rating\n",
        "        if user_id in userAverageRating and movie_id in movieAverageRating:\n",
        "            predictedRating_UserItem = alpha_userItem * userAverageRating[user_id] + beta_userItem * movieAverageRating[movie_id] + gamma_userItem\n",
        "        else:\n",
        "            predictedRating_UserItem = globalAvgRating\n",
        "\n",
        "       #Checking that the predicted rating is within the valid range [1,5]\n",
        "        predictedRating_UserItem = min(5, max(1, predictedRating_UserItem))\n",
        "        predictions_userItem.append(predictedRating_UserItem)\n",
        "\n",
        "    #Calculating MAE and RMSE for Ruser-item(user, item)\n",
        "    mae_userItem = mean_absolute_error(test_set['Rating'], predictions_userItem)\n",
        "    rmse_userItem = np.sqrt(mean_squared_error(test_set['Rating'], predictions_userItem))\n",
        "\n",
        "    totalMAE_userItem += mae_userItem\n",
        "    totalRMSE_userItem += rmse_userItem\n",
        "\n",
        "#Calculating the average MAE & RMSE for Ruser-item(user,item) overall folds\n",
        "averageMAE_userItem = totalMAE_userItem / 5\n",
        "averageRMSE_userItem = totalRMSE_userItem / 5\n",
        "\n",
        "print(\"The Average MAE for Ruser-item(user, item) is\", averageMAE_userItem)\n",
        "print(\"The Average RMSE for Ruser-item(user, item) is\", averageRMSE_userItem)"
      ],
      "metadata": {
        "colab": {
          "base_uri": "https://localhost:8080/"
        },
        "id": "7f0uV4w6lMOM",
        "outputId": "85430481-22da-4ad6-9ddb-98af99611520"
      },
      "execution_count": 100,
      "outputs": [
        {
          "output_type": "stream",
          "name": "stdout",
          "text": [
            "The Average MAE for Ruser-item(user, item) is 0.9189390806677356\n",
            "The Average RMSE for Ruser-item(user, item) is 1.1215232850932553\n"
          ]
        }
      ]
    },
    {
      "cell_type": "code",
      "source": [],
      "metadata": {
        "id": "DOdJ8J-cp2DQ"
      },
      "execution_count": 100,
      "outputs": []
    }
  ]
}
